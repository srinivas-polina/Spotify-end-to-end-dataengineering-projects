{
 "cells": [
  {
   "cell_type": "code",
   "execution_count": null,
   "id": "5f493818-5ed3-469d-8d89-ab2078bc30a9",
   "metadata": {},
   "outputs": [],
   "source": [
    "import json\n",
    "import os\n",
    "import spotipy\n",
    "from spotipy.oauth2 import SpotifyClientCredentials\n",
    "import boto3\n",
    "#boto3 is a package created by aws,programatically communicate with aws services\n",
    "#lambda doesn't support all of the functions that we equired, we need to use lambda layer instead of 'pip install ---'\n",
    "from datetime import datetime\n",
    "def lambda_handler(event, context):\n",
    "    client_id = os.environ.get('client_id')\n",
    "    client_secret = os.environ.get('client_secret')\n",
    "    client_credentials_manager = SpotifyClientCredentials(client_id=client_id, client_secret=client_secret)\n",
    "    sp = spotipy.Spotify(client_credentials_manager = client_credentials_manager)\n",
    "    playlists = sp.user_playlists('spotify')\n",
    "    playlist_link = \"https://open.spotify.com/playlist/37i9dQZF1DWTt3gMo0DLxA\"\n",
    "    playlist_URI = playlist_link.split(\"/\")[-1]\n",
    "    data = sp.playlist_tracks(playlist_URI)\n",
    "    print(data)\n",
    "    \n",
    "    client = boto3.client('s3')\n",
    "    filename = \"spotify_raw_\" + str(datetime.now()) + \".json\"\n",
    "    client.put_object(\n",
    "        Bucket =\"spotify-etl-project-srinivas\",\n",
    "        Key = \"raw_data/to_processed/\" + filename,\n",
    "        Body = json.dumps(data)\n",
    "        )"
   ]
  }
 ],
 "metadata": {
  "kernelspec": {
   "display_name": "Python 3 (ipykernel)",
   "language": "python",
   "name": "python3"
  },
  "language_info": {
   "codemirror_mode": {
    "name": "ipython",
    "version": 3
   },
   "file_extension": ".py",
   "mimetype": "text/x-python",
   "name": "python",
   "nbconvert_exporter": "python",
   "pygments_lexer": "ipython3",
   "version": "3.11.7"
  },
  "widgets": {
   "application/vnd.jupyter.widget-state+json": {
    "state": {},
    "version_major": 2,
    "version_minor": 0
   }
  }
 },
 "nbformat": 4,
 "nbformat_minor": 5
}
